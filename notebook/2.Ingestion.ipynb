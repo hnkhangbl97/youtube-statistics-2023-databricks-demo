{
 "cells": [
  {
   "cell_type": "code",
   "execution_count": 0,
   "metadata": {
    "application/vnd.databricks.v1+cell": {
     "cellMetadata": {
      "byteLimit": 2048000,
      "rowLimit": 10000
     },
     "inputWidgets": {},
     "nuid": "5ffd51a5-ef18-40df-8c28-c099e216c579",
     "showTitle": false,
     "title": ""
    }
   },
   "outputs": [],
   "source": [
    "%run \"./0.Config\""
   ]
  },
  {
   "cell_type": "markdown",
   "metadata": {
    "application/vnd.databricks.v1+cell": {
     "cellMetadata": {
      "byteLimit": 2048000,
      "rowLimit": 10000
     },
     "inputWidgets": {},
     "nuid": "ce3b08fb-374a-4ac9-bf16-da63b21b9c69",
     "showTitle": false,
     "title": ""
    }
   },
   "source": [
    "### 1. Ingest raw data"
   ]
  },
  {
   "cell_type": "code",
   "execution_count": 0,
   "metadata": {
    "application/vnd.databricks.v1+cell": {
     "cellMetadata": {
      "byteLimit": 2048000,
      "rowLimit": 10000
     },
     "inputWidgets": {},
     "nuid": "a5af6edd-ea29-42e7-8c70-2a775a86f4eb",
     "showTitle": false,
     "title": ""
    }
   },
   "outputs": [],
   "source": [
    "raw_data_df  = spark.read.csv(raw_data_path,inferSchema=True,header=True)"
   ]
  },
  {
   "cell_type": "markdown",
   "metadata": {
    "application/vnd.databricks.v1+cell": {
     "cellMetadata": {
      "byteLimit": 2048000,
      "rowLimit": 10000
     },
     "inputWidgets": {},
     "nuid": "3b390dea-a2d4-4c63-99d0-7b81c76fe885",
     "showTitle": false,
     "title": ""
    }
   },
   "source": [
    "### `Data cleaning`"
   ]
  },
  {
   "cell_type": "code",
   "execution_count": 0,
   "metadata": {
    "application/vnd.databricks.v1+cell": {
     "cellMetadata": {
      "byteLimit": 2048000,
      "rowLimit": 10000
     },
     "inputWidgets": {},
     "nuid": "83383b2c-d9cc-4ee4-899b-f0aae2539fa1",
     "showTitle": false,
     "title": ""
    }
   },
   "outputs": [],
   "source": [
    "# Drop unused cols\n",
    "\n",
    "unused_cols =('rank',\n",
    "            'title',\n",
    "            'channel_type',\n",
    "            'video_views_rank',\n",
    "            'country_rank',\n",
    "            'channel_type_rank',\n",
    "            'video_views_for_the_last_30_days',\n",
    "            'subscribers_for_last_30_days',\n",
    "            \"Gross tertiary education enrollment (%)\",\n",
    "            'Population',\n",
    "            'Unemployment rate',\n",
    "            'Urban_population',\n",
    "            'Latitude',\n",
    "            'Longitude')\n",
    "\n",
    "filtered_raw_data_df = raw_data_df.drop(*unused_cols)"
   ]
  },
  {
   "cell_type": "markdown",
   "metadata": {
    "application/vnd.databricks.v1+cell": {
     "cellMetadata": {
      "byteLimit": 2048000,
      "rowLimit": 10000
     },
     "inputWidgets": {},
     "nuid": "64f4bdcc-1b6e-4cc4-a528-869d99056b25",
     "showTitle": false,
     "title": ""
    }
   },
   "source": [
    "### Create processed `Category` DF"
   ]
  },
  {
   "cell_type": "code",
   "execution_count": 0,
   "metadata": {
    "application/vnd.databricks.v1+cell": {
     "cellMetadata": {
      "byteLimit": 2048000,
      "rowLimit": 10000
     },
     "inputWidgets": {},
     "nuid": "fa7b1f26-e291-4344-9007-84f8280f15b4",
     "showTitle": false,
     "title": ""
    }
   },
   "outputs": [],
   "source": [
    "raw_category_df = filtered_raw_data_df.dropDuplicates(['category']).select('category')"
   ]
  },
  {
   "cell_type": "code",
   "execution_count": 0,
   "metadata": {
    "application/vnd.databricks.v1+cell": {
     "cellMetadata": {
      "byteLimit": 2048000,
      "rowLimit": 10000
     },
     "inputWidgets": {},
     "nuid": "40f5377a-8afb-41fc-97de-af02682e4da2",
     "showTitle": false,
     "title": ""
    }
   },
   "outputs": [],
   "source": [
    "from pyspark.sql.functions import monotonically_increasing_id"
   ]
  },
  {
   "cell_type": "code",
   "execution_count": 0,
   "metadata": {
    "application/vnd.databricks.v1+cell": {
     "cellMetadata": {
      "byteLimit": 2048000,
      "rowLimit": 10000
     },
     "inputWidgets": {},
     "nuid": "e7120379-8d9b-41f9-bbe2-fa4efdc7d30b",
     "showTitle": false,
     "title": ""
    }
   },
   "outputs": [],
   "source": [
    "processed_category_df =raw_category_df.withColumn('cat_id',monotonically_increasing_id())\n",
    "processed_category_df =processed_category_df.select('cat_id','category')"
   ]
  },
  {
   "cell_type": "markdown",
   "metadata": {
    "application/vnd.databricks.v1+cell": {
     "cellMetadata": {
      "byteLimit": 2048000,
      "rowLimit": 10000
     },
     "inputWidgets": {},
     "nuid": "f915a10a-5824-43b9-a192-985e8835ff91",
     "showTitle": false,
     "title": ""
    }
   },
   "source": [
    "### Create processed `Country` DF"
   ]
  },
  {
   "cell_type": "code",
   "execution_count": 0,
   "metadata": {
    "application/vnd.databricks.v1+cell": {
     "cellMetadata": {
      "byteLimit": 2048000,
      "rowLimit": 10000
     },
     "inputWidgets": {},
     "nuid": "2b84c68b-ccbe-43b3-a3e7-c813c9367152",
     "showTitle": false,
     "title": ""
    }
   },
   "outputs": [],
   "source": [
    "raw_country_df = filtered_raw_data_df.dropDuplicates(['Country','Abbreviation']).select('Country','Abbreviation')"
   ]
  },
  {
   "cell_type": "code",
   "execution_count": 0,
   "metadata": {
    "application/vnd.databricks.v1+cell": {
     "cellMetadata": {
      "byteLimit": 2048000,
      "rowLimit": 10000
     },
     "inputWidgets": {},
     "nuid": "72713cba-8060-4289-bd0e-4ca10eb39e9a",
     "showTitle": false,
     "title": ""
    }
   },
   "outputs": [],
   "source": [
    "processed_country_df = raw_country_df.withColumn('country_id',monotonically_increasing_id())\n",
    "processed_country_df = processed_country_df.withColumnRenamed('Abbreviation','abbreviation')\n",
    "processed_country_df = processed_country_df.withColumnRenamed('Country','country')\n",
    "processed_country_df = processed_country_df.select('country_id','country','abbreviation')\n"
   ]
  },
  {
   "cell_type": "markdown",
   "metadata": {
    "application/vnd.databricks.v1+cell": {
     "cellMetadata": {
      "byteLimit": 2048000,
      "rowLimit": 10000
     },
     "inputWidgets": {},
     "nuid": "9785d21c-52ba-43e7-8799-bf771fea26b2",
     "showTitle": false,
     "title": ""
    }
   },
   "source": [
    "### Create processed `Youtuber` DF"
   ]
  },
  {
   "cell_type": "code",
   "execution_count": 0,
   "metadata": {
    "application/vnd.databricks.v1+cell": {
     "cellMetadata": {
      "byteLimit": 2048000,
      "rowLimit": 10000
     },
     "inputWidgets": {},
     "nuid": "9c812001-72f8-4d02-9a4c-077752c4f0c0",
     "showTitle": false,
     "title": ""
    }
   },
   "outputs": [],
   "source": [
    "from pyspark.sql.functions import from_unixtime,unix_timestamp,to_timestamp,concat,lit,when,length,col"
   ]
  },
  {
   "cell_type": "code",
   "execution_count": 0,
   "metadata": {
    "application/vnd.databricks.v1+cell": {
     "cellMetadata": {
      "byteLimit": 2048000,
      "rowLimit": 10000
     },
     "inputWidgets": {},
     "nuid": "0d8f898c-09ba-4893-ab63-b577bdb82477",
     "showTitle": false,
     "title": ""
    }
   },
   "outputs": [],
   "source": [
    "# Add timestamp column\n",
    "raw_youtuber_df = filtered_raw_data_df.withColumn('created_month_MM',from_unixtime(unix_timestamp('created_month','MMM'),'MM'))\n",
    "raw_youtuber_df = raw_youtuber_df.withColumn('created_date_DD',when(length('created_date') == 1,concat(lit('0'),'created_date')).otherwise(filtered_raw_data_df.created_date))\n",
    "raw_youtuber_df = raw_youtuber_df.withColumn('created_day',\\\n",
    "                                           to_timestamp(concat('created_month_MM',lit('-'),'created_date_DD',lit('-'),'created_year'),\"MM-dd-yyyy\"))\n"
   ]
  },
  {
   "cell_type": "code",
   "execution_count": 0,
   "metadata": {
    "application/vnd.databricks.v1+cell": {
     "cellMetadata": {
      "byteLimit": 2048000,
      "rowLimit": 10000
     },
     "inputWidgets": {},
     "nuid": "84d0e285-065c-4371-af01-5690463cff62",
     "showTitle": false,
     "title": ""
    }
   },
   "outputs": [],
   "source": [
    "raw_youtuber_df = raw_youtuber_df.withColumn('youtuber_id',monotonically_increasing_id())\n",
    "\n",
    "raw_youtuber_df =raw_youtuber_df.withColumnRenamed(\"Youtuber\",\"youtuber\")\n",
    "raw_youtuber_df =raw_youtuber_df.withColumnRenamed(\"video views\",\"total_views\")\n",
    "raw_youtuber_df =raw_youtuber_df.withColumnRenamed(\"uploads\",\"video_uploaded\")\n",
    "raw_youtuber_df =raw_youtuber_df.withColumnRenamed(\"Country\",\"country\")\n",
    "\n",
    "drops= ['created_year','created_month','created_date','Abbreviation','created_date_DD','created_month_MM']\n",
    "\n",
    "raw_youtuber_df = raw_youtuber_df.drop(*drops)"
   ]
  },
  {
   "cell_type": "code",
   "execution_count": 0,
   "metadata": {
    "application/vnd.databricks.v1+cell": {
     "cellMetadata": {
      "byteLimit": 2048000,
      "rowLimit": 10000
     },
     "inputWidgets": {},
     "nuid": "1f43d44b-4440-48a4-9afe-d95841813bd8",
     "showTitle": false,
     "title": ""
    }
   },
   "outputs": [],
   "source": [
    "raw_youtuber_join_country_df = raw_youtuber_df.join(processed_country_df,['country'],'left')"
   ]
  },
  {
   "cell_type": "code",
   "execution_count": 0,
   "metadata": {
    "application/vnd.databricks.v1+cell": {
     "cellMetadata": {
      "byteLimit": 2048000,
      "rowLimit": 10000
     },
     "inputWidgets": {},
     "nuid": "06d674a0-ed49-495a-a846-8c69c8509892",
     "showTitle": false,
     "title": ""
    }
   },
   "outputs": [],
   "source": [
    "raw_youtuber_join_cat_country_df = raw_youtuber_join_country_df.join(processed_category_df,['category'],'left')"
   ]
  },
  {
   "cell_type": "code",
   "execution_count": 0,
   "metadata": {
    "application/vnd.databricks.v1+cell": {
     "cellMetadata": {
      "byteLimit": 2048000,
      "rowLimit": 10000
     },
     "inputWidgets": {},
     "nuid": "305a07dc-93e8-486d-825a-a00e23bbf929",
     "showTitle": false,
     "title": ""
    }
   },
   "outputs": [],
   "source": [
    "cols = ['youtuber_id','youtuber','country_id','cat_id','subscribers','total_views','video_uploaded','lowest_monthly_earnings','highest_monthly_earnings','lowest_yearly_earnings','highest_yearly_earnings','created_day']\n",
    "processed_youtuber_df = raw_youtuber_join_cat_country_df.select(*cols)"
   ]
  },
  {
   "cell_type": "markdown",
   "metadata": {
    "application/vnd.databricks.v1+cell": {
     "cellMetadata": {
      "byteLimit": 2048000,
      "rowLimit": 10000
     },
     "inputWidgets": {},
     "nuid": "1944a959-8d5c-45a8-a548-22c8e5d5ea1d",
     "showTitle": false,
     "title": ""
    }
   },
   "source": [
    "### Write processed DF to `Processed Delta lake`"
   ]
  },
  {
   "cell_type": "code",
   "execution_count": 0,
   "metadata": {
    "application/vnd.databricks.v1+cell": {
     "cellMetadata": {
      "byteLimit": 2048000,
      "rowLimit": 10000
     },
     "inputWidgets": {},
     "nuid": "e3a76ef4-674b-4a7a-9ceb-f633b0c26689",
     "showTitle": false,
     "title": ""
    }
   },
   "outputs": [],
   "source": [
    "processed_youtuber_df.write.format('delta').mode('overwrite').saveAsTable('global_youtube_statistics_2023_processed.youtuber')\n",
    "\n",
    "processed_category_df.write.format('delta').mode('overwrite').saveAsTable('global_youtube_statistics_2023_processed.category')\n",
    "\n",
    "processed_country_df.write.format('delta').mode('overwrite').saveAsTable('global_youtube_statistics_2023_processed.country')"
   ]
  }
 ],
 "metadata": {
  "application/vnd.databricks.v1+notebook": {
   "dashboards": [],
   "language": "python",
   "notebookMetadata": {
    "mostRecentlyExecutedCommandWithImplicitDF": {
     "commandId": -1,
     "dataframes": [
      "_sqldf"
     ]
    },
    "pythonIndentUnit": 4
   },
   "notebookName": "2.Ingestion",
   "widgets": {}
  }
 },
 "nbformat": 4,
 "nbformat_minor": 0
}
